{
 "cells": [
  {
   "cell_type": "code",
   "execution_count": 1,
   "metadata": {},
   "outputs": [],
   "source": [
    "import datetime as dt\n",
    "import pandas as pd\n",
    "import pandas_datareader as web\n",
    "import datetime as dt\n",
    "import numpy as np\n",
    "import matplotlib.pyplot as plt\n",
    "\n",
    "from sklearn.preprocessing import MinMaxScaler\n",
    "from tensorflow.keras.models import Sequential\n",
    "from tensorflow.keras.layers import Dense, Dropout, LSTM\n"
   ]
  },
  {
   "cell_type": "code",
   "execution_count": 20,
   "metadata": {},
   "outputs": [],
   "source": [
    "company = '^TNX'\n",
    "start = dt.datetime(2012,1,1)\n",
    "end = dt.datetime(2022,10,3)\n",
    "\n",
    "data = web.DataReader(company, 'yahoo', start=start, end=end)\n"
   ]
  },
  {
   "cell_type": "code",
   "execution_count": 21,
   "metadata": {},
   "outputs": [
    {
     "data": {
      "text/html": [
       "<div>\n",
       "<style scoped>\n",
       "    .dataframe tbody tr th:only-of-type {\n",
       "        vertical-align: middle;\n",
       "    }\n",
       "\n",
       "    .dataframe tbody tr th {\n",
       "        vertical-align: top;\n",
       "    }\n",
       "\n",
       "    .dataframe thead th {\n",
       "        text-align: right;\n",
       "    }\n",
       "</style>\n",
       "<table border=\"1\" class=\"dataframe\">\n",
       "  <thead>\n",
       "    <tr style=\"text-align: right;\">\n",
       "      <th></th>\n",
       "      <th>High</th>\n",
       "      <th>Low</th>\n",
       "      <th>Open</th>\n",
       "      <th>Close</th>\n",
       "      <th>Volume</th>\n",
       "      <th>Adj Close</th>\n",
       "    </tr>\n",
       "    <tr>\n",
       "      <th>Date</th>\n",
       "      <th></th>\n",
       "      <th></th>\n",
       "      <th></th>\n",
       "      <th></th>\n",
       "      <th></th>\n",
       "      <th></th>\n",
       "    </tr>\n",
       "  </thead>\n",
       "  <tbody>\n",
       "    <tr>\n",
       "      <th>2012-01-03</th>\n",
       "      <td>1.965</td>\n",
       "      <td>1.914</td>\n",
       "      <td>1.951</td>\n",
       "      <td>1.960</td>\n",
       "      <td>0.0</td>\n",
       "      <td>1.960</td>\n",
       "    </tr>\n",
       "    <tr>\n",
       "      <th>2012-01-04</th>\n",
       "      <td>2.012</td>\n",
       "      <td>1.933</td>\n",
       "      <td>1.937</td>\n",
       "      <td>1.995</td>\n",
       "      <td>0.0</td>\n",
       "      <td>1.995</td>\n",
       "    </tr>\n",
       "    <tr>\n",
       "      <th>2012-01-05</th>\n",
       "      <td>2.021</td>\n",
       "      <td>1.944</td>\n",
       "      <td>1.991</td>\n",
       "      <td>1.993</td>\n",
       "      <td>0.0</td>\n",
       "      <td>1.993</td>\n",
       "    </tr>\n",
       "    <tr>\n",
       "      <th>2012-01-06</th>\n",
       "      <td>2.044</td>\n",
       "      <td>1.946</td>\n",
       "      <td>2.003</td>\n",
       "      <td>1.961</td>\n",
       "      <td>0.0</td>\n",
       "      <td>1.961</td>\n",
       "    </tr>\n",
       "    <tr>\n",
       "      <th>2012-01-09</th>\n",
       "      <td>1.986</td>\n",
       "      <td>1.919</td>\n",
       "      <td>1.975</td>\n",
       "      <td>1.960</td>\n",
       "      <td>0.0</td>\n",
       "      <td>1.960</td>\n",
       "    </tr>\n",
       "    <tr>\n",
       "      <th>...</th>\n",
       "      <td>...</td>\n",
       "      <td>...</td>\n",
       "      <td>...</td>\n",
       "      <td>...</td>\n",
       "      <td>...</td>\n",
       "      <td>...</td>\n",
       "    </tr>\n",
       "    <tr>\n",
       "      <th>2022-09-27</th>\n",
       "      <td>3.992</td>\n",
       "      <td>3.809</td>\n",
       "      <td>3.809</td>\n",
       "      <td>3.964</td>\n",
       "      <td>0.0</td>\n",
       "      <td>3.964</td>\n",
       "    </tr>\n",
       "    <tr>\n",
       "      <th>2022-09-28</th>\n",
       "      <td>3.913</td>\n",
       "      <td>3.703</td>\n",
       "      <td>3.911</td>\n",
       "      <td>3.705</td>\n",
       "      <td>0.0</td>\n",
       "      <td>3.705</td>\n",
       "    </tr>\n",
       "    <tr>\n",
       "      <th>2022-09-29</th>\n",
       "      <td>3.826</td>\n",
       "      <td>3.721</td>\n",
       "      <td>3.818</td>\n",
       "      <td>3.747</td>\n",
       "      <td>0.0</td>\n",
       "      <td>3.747</td>\n",
       "    </tr>\n",
       "    <tr>\n",
       "      <th>2022-09-30</th>\n",
       "      <td>3.804</td>\n",
       "      <td>3.686</td>\n",
       "      <td>3.714</td>\n",
       "      <td>3.804</td>\n",
       "      <td>0.0</td>\n",
       "      <td>3.804</td>\n",
       "    </tr>\n",
       "    <tr>\n",
       "      <th>2022-10-03</th>\n",
       "      <td>3.712</td>\n",
       "      <td>3.568</td>\n",
       "      <td>3.712</td>\n",
       "      <td>3.651</td>\n",
       "      <td>0.0</td>\n",
       "      <td>3.651</td>\n",
       "    </tr>\n",
       "  </tbody>\n",
       "</table>\n",
       "<p>2704 rows × 6 columns</p>\n",
       "</div>"
      ],
      "text/plain": [
       "             High    Low   Open  Close  Volume  Adj Close\n",
       "Date                                                     \n",
       "2012-01-03  1.965  1.914  1.951  1.960     0.0      1.960\n",
       "2012-01-04  2.012  1.933  1.937  1.995     0.0      1.995\n",
       "2012-01-05  2.021  1.944  1.991  1.993     0.0      1.993\n",
       "2012-01-06  2.044  1.946  2.003  1.961     0.0      1.961\n",
       "2012-01-09  1.986  1.919  1.975  1.960     0.0      1.960\n",
       "...           ...    ...    ...    ...     ...        ...\n",
       "2022-09-27  3.992  3.809  3.809  3.964     0.0      3.964\n",
       "2022-09-28  3.913  3.703  3.911  3.705     0.0      3.705\n",
       "2022-09-29  3.826  3.721  3.818  3.747     0.0      3.747\n",
       "2022-09-30  3.804  3.686  3.714  3.804     0.0      3.804\n",
       "2022-10-03  3.712  3.568  3.712  3.651     0.0      3.651\n",
       "\n",
       "[2704 rows x 6 columns]"
      ]
     },
     "execution_count": 21,
     "metadata": {},
     "output_type": "execute_result"
    }
   ],
   "source": [
    "data"
   ]
  },
  {
   "cell_type": "code",
   "execution_count": 22,
   "metadata": {},
   "outputs": [],
   "source": [
    "#Prepare Data\n",
    "\n",
    "scaler = MinMaxScaler(feature_range=(0,1))\n",
    "scaled_data = scaler.fit_transform(data['Close'].values.reshape(-1,1))\n",
    "\n",
    "prediction_days = 60\n",
    "future_day_predicted = 7\n",
    "\n",
    "x_train = []\n",
    "y_train = []\n",
    "\n",
    "for x in range(prediction_days, len(scaled_data) - future_day_predicted + 1):\n",
    "    x_train.append(scaled_data[x-prediction_days:x, 0 ])  # First iteration: x=60 =>  - 60 => 0:60\n",
    "    y_train.append(scaled_data[x + future_day_predicted - 1,0])\n",
    "\n",
    "\n",
    "x_train, y_train = np.array(x_train), np.array(y_train)\n",
    "\n",
    "x_train = np.reshape(x_train, (x_train.shape[0], x_train.shape[1], 1))  # Making x_train 3d with last dimension = 1"
   ]
  },
  {
   "cell_type": "code",
   "execution_count": 23,
   "metadata": {},
   "outputs": [
    {
     "data": {
      "text/plain": [
       "(2638, 60, 1)"
      ]
     },
     "execution_count": 23,
     "metadata": {},
     "output_type": "execute_result"
    }
   ],
   "source": [
    "x_train.shape"
   ]
  },
  {
   "cell_type": "code",
   "execution_count": 24,
   "metadata": {},
   "outputs": [
    {
     "name": "stdout",
     "output_type": "stream",
     "text": [
      "Epoch 1/25\n",
      "83/83 [==============================] - 4s 14ms/step - loss: 0.0161\n",
      "Epoch 2/25\n",
      "83/83 [==============================] - 1s 12ms/step - loss: 0.0049\n",
      "Epoch 3/25\n",
      "83/83 [==============================] - 1s 12ms/step - loss: 0.0047\n",
      "Epoch 4/25\n",
      "83/83 [==============================] - 1s 12ms/step - loss: 0.0042\n",
      "Epoch 5/25\n",
      "83/83 [==============================] - 1s 12ms/step - loss: 0.0041\n",
      "Epoch 6/25\n",
      "83/83 [==============================] - 1s 12ms/step - loss: 0.0036\n",
      "Epoch 7/25\n",
      "83/83 [==============================] - 1s 11ms/step - loss: 0.0038\n",
      "Epoch 8/25\n",
      "83/83 [==============================] - 1s 11ms/step - loss: 0.0038\n",
      "Epoch 9/25\n",
      "83/83 [==============================] - 1s 11ms/step - loss: 0.0033\n",
      "Epoch 10/25\n",
      "83/83 [==============================] - 1s 11ms/step - loss: 0.0036\n",
      "Epoch 11/25\n",
      "83/83 [==============================] - 1s 12ms/step - loss: 0.0033\n",
      "Epoch 12/25\n",
      "83/83 [==============================] - 1s 12ms/step - loss: 0.0033\n",
      "Epoch 13/25\n",
      "83/83 [==============================] - 1s 12ms/step - loss: 0.0032\n",
      "Epoch 14/25\n",
      "83/83 [==============================] - 1s 12ms/step - loss: 0.0030\n",
      "Epoch 15/25\n",
      "83/83 [==============================] - 1s 12ms/step - loss: 0.0028\n",
      "Epoch 16/25\n",
      "83/83 [==============================] - 1s 12ms/step - loss: 0.0030\n",
      "Epoch 17/25\n",
      "83/83 [==============================] - 1s 12ms/step - loss: 0.0028\n",
      "Epoch 18/25\n",
      "83/83 [==============================] - 1s 12ms/step - loss: 0.0028\n",
      "Epoch 19/25\n",
      "83/83 [==============================] - 1s 11ms/step - loss: 0.0026\n",
      "Epoch 20/25\n",
      "83/83 [==============================] - 1s 11ms/step - loss: 0.0027\n",
      "Epoch 21/25\n",
      "83/83 [==============================] - 1s 12ms/step - loss: 0.0028\n",
      "Epoch 22/25\n",
      "83/83 [==============================] - 1s 12ms/step - loss: 0.0027\n",
      "Epoch 23/25\n",
      "83/83 [==============================] - 1s 12ms/step - loss: 0.0025\n",
      "Epoch 24/25\n",
      "83/83 [==============================] - 1s 12ms/step - loss: 0.0026\n",
      "Epoch 25/25\n",
      "83/83 [==============================] - 1s 12ms/step - loss: 0.0024\n"
     ]
    },
    {
     "data": {
      "text/plain": [
       "<keras.callbacks.History at 0x208eebf2850>"
      ]
     },
     "execution_count": 24,
     "metadata": {},
     "output_type": "execute_result"
    }
   ],
   "source": [
    "# Build the Model\n",
    "\n",
    "model = Sequential ()\n",
    "\n",
    "model.add(LSTM(units=50, return_sequences=True, input_shape=(x_train.shape[1], 1)))\n",
    "model.add(Dropout(0.2))\n",
    "model.add(LSTM(units=50, return_sequences=True))\n",
    "model.add(Dropout(0.2))\n",
    "model.add(LSTM(units=50))\n",
    "model.add(Dropout(0.2))\n",
    "model.add(Dense(units=1))\n",
    "\n",
    "\n",
    "model.compile(optimizer='adam', loss='mean_squared_error')\n",
    "model.fit(x_train, y_train, epochs=25, batch_size=32)\n",
    "\n",
    "\n"
   ]
  },
  {
   "cell_type": "code",
   "execution_count": 25,
   "metadata": {},
   "outputs": [
    {
     "data": {
      "text/plain": [
       "(None, 60, 1)"
      ]
     },
     "execution_count": 25,
     "metadata": {},
     "output_type": "execute_result"
    }
   ],
   "source": [
    "model.input_shape"
   ]
  },
  {
   "cell_type": "code",
   "execution_count": 7,
   "metadata": {},
   "outputs": [
    {
     "name": "stdout",
     "output_type": "stream",
     "text": [
      "Model: \"sequential\"\n",
      "_________________________________________________________________\n",
      " Layer (type)                Output Shape              Param #   \n",
      "=================================================================\n",
      " lstm (LSTM)                 (None, 60, 50)            10400     \n",
      "                                                                 \n",
      " dropout (Dropout)           (None, 60, 50)            0         \n",
      "                                                                 \n",
      " lstm_1 (LSTM)               (None, 60, 50)            20200     \n",
      "                                                                 \n",
      " dropout_1 (Dropout)         (None, 60, 50)            0         \n",
      "                                                                 \n",
      " lstm_2 (LSTM)               (None, 50)                20200     \n",
      "                                                                 \n",
      " dropout_2 (Dropout)         (None, 50)                0         \n",
      "                                                                 \n",
      " dense (Dense)               (None, 1)                 51        \n",
      "                                                                 \n",
      "=================================================================\n",
      "Total params: 50,851\n",
      "Trainable params: 50,851\n",
      "Non-trainable params: 0\n",
      "_________________________________________________________________\n"
     ]
    }
   ],
   "source": [
    "model.summary()"
   ]
  },
  {
   "cell_type": "code",
   "execution_count": 26,
   "metadata": {},
   "outputs": [],
   "source": [
    "\n",
    "#TESTING THE MODEL\n",
    "test_start = dt.datetime(2016,1,1)\n",
    "test_end = dt.datetime(2022,10,3)\n",
    "\n",
    "test_data = web.DataReader(company, 'yahoo', test_start,  test_end)\n",
    "actual_prices = test_data['Close'].values[future_day_predicted - 1:]\n",
    "\n",
    "total_dataset = pd.concat((data['Close'], test_data['Close']), axis=0)\n",
    "\n",
    "\n",
    "model_inputs = total_dataset[len(total_dataset) - len(test_data) - prediction_days:].values\n",
    "model_inputs = model_inputs.reshape(-1, 1)\n",
    "model_inputs = scaler.transform(model_inputs)\n"
   ]
  },
  {
   "cell_type": "code",
   "execution_count": 27,
   "metadata": {},
   "outputs": [
    {
     "name": "stdout",
     "output_type": "stream",
     "text": [
      "53/53 [==============================] - 1s 9ms/step\n"
     ]
    }
   ],
   "source": [
    "\n",
    "#Make predictions on test data\n",
    "\n",
    "x_test = []\n",
    "\n",
    "for x in range(prediction_days, len(model_inputs) - future_day_predicted + 1):\n",
    "    x_test.append(model_inputs[x-prediction_days:x, 0 ])\n",
    "\n",
    "\n",
    "x_test = np.array(x_test)\n",
    "x_test = np.reshape(x_test, (x_test.shape[0], x_test.shape[1], 1))\n",
    "\n",
    "predicted_prices = model.predict(x_test)\n",
    "predicted_prices = scaler.inverse_transform(predicted_prices)\n",
    "\n",
    "\n"
   ]
  },
  {
   "cell_type": "code",
   "execution_count": 28,
   "metadata": {},
   "outputs": [
    {
     "data": {
      "text/plain": [
       "(1692, 1)"
      ]
     },
     "execution_count": 28,
     "metadata": {},
     "output_type": "execute_result"
    }
   ],
   "source": [
    "predicted_prices.shape"
   ]
  },
  {
   "cell_type": "code",
   "execution_count": 29,
   "metadata": {},
   "outputs": [
    {
     "name": "stderr",
     "output_type": "stream",
     "text": [
      "No artists with labels found to put in legend.  Note that artists whose label start with an underscore are ignored when legend() is called with no argument.\n"
     ]
    },
    {
     "data": {
      "image/png": "[encoded data removed]",
      "text/plain": [
       "<Figure size 640x480 with 1 Axes>"
      ]
     },
     "metadata": {},
     "output_type": "display_data"
    }
   ],
   "source": [
    "\n",
    "\n",
    "#PLOT\n",
    "\n",
    "plt.plot(actual_prices, color='black')\n",
    "plt.plot(predicted_prices, color='green')\n",
    "\n",
    "plt.legend()\n",
    "plt.show()\n",
    "    "
   ]
  },
  {
   "cell_type": "code",
   "execution_count": 34,
   "metadata": {},
   "outputs": [
    {
     "name": "stdout",
     "output_type": "stream",
     "text": [
      "[3.461978]\n"
     ]
    }
   ],
   "source": [
    "real_data = [model_inputs[len(model_inputs)]]"
   ]
  }
 ],
 "metadata": {
  "kernelspec": {
   "display_name": "Python 3.9.12 ('tf2')",
   "language": "python",
   "name": "python3"
  },
  "language_info": {
   "codemirror_mode": {
    "name": "ipython",
    "version": 3
   },
   "file_extension": ".py",
   "mimetype": "text/x-python",
   "name": "python",
   "nbconvert_exporter": "python",
   "pygments_lexer": "ipython3",
   "version": "3.9.12"
  },
  "orig_nbformat": 4,
  "vscode": {
   "interpreter": {
    "hash": "46b1d01e68104ec17620421dbe5949478624b8a84c417070bb164efc7619deca"
   }
  }
 },
 "nbformat": 4,
 "nbformat_minor": 2
}
