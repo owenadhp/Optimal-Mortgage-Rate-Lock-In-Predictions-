{
 "cells": [
  {
   "cell_type": "code",
   "execution_count": 2,
   "metadata": {},
   "outputs": [],
   "source": [
    "import os\n",
    "import win32com.client as win32\n",
    "\n",
    "# # # construct Outlook application instance\n",
    "# olApp = win32.Dispatch('Outlook.Application')\n",
    "# olNS = olApp.GetNameSpace('MAPI')\n",
    "\n",
    "\n",
    "# # construct the email item object\n",
    "# mailItem = olApp.CreateItem(0)\n",
    "# mailItem.Subject = 'Initial Documents'\n",
    "# mailItem.BodyFormat = 1\n",
    "# mailItem.To = '<hongc@reliancemortgage.net>'\n",
    "\n",
    "\n",
    "\n",
    "# mailItem.HTMLBody = r\"\"\"\n",
    "# <html>\n",
    "# <body>\n",
    "# <font color=\"Black\" size=3 face=\"Times New Roman\">\n",
    "# <p>\n",
    "# Dear Hong,<br><br>\n",
    "# Here is a list of documents that I need from you:<br><br>\n",
    "# 1.\tFilled out copies of the AUS form, forbearance form and application form (the last page of the application form is a credit card authorization form used to pull your credit report - this cost will be refunded at closing) (forms will be sent to you via DocuSign)<br>\n",
    "# 2.\tA signed copy of the Purchase and Sale contract (mutual acceptance)<br>\n",
    "# 3.\tA copy of your Driver’s License <br>\n",
    "# 4.\tA copy of one of the following if you are not a U.S. Citizen: \n",
    "# <UL>\n",
    "#     <LI>\tGreen Card (both sides) \n",
    "#     <LI>    H1B I-797 and passport visa page (if your visa is expired, please include I-94)\n",
    "#     <LI>    EAD card (both sides)\n",
    "# </UL>\n",
    "# 5.\tYour most recent months’ paystub(s) <br>\n",
    "# 6.\tTwo years of W2 (if you have less than two years of work history, please provide your diploma and school transcript)<br>\n",
    "# 7.\tThe last two months of bank statements (this normally is for the account where you issue earnest money from - it needs to have enough money to cover the down payment, closing cost and prepay; if there are any large deposits, we will need to be able to trace it）<br>\n",
    "# 8.\tMortgage statements for all properties that you currently own – please also include home owner insurance and HOA due statement if they exist (if you own a condo, please provide Master Insurance as well; if we need your rental income to qualify for the loan, please provide two years of full tax returns) <br><br>\n",
    "# The following documentation can be sent to us later: <br><br>\n",
    "# 1.\tCashed earnest money check images or wire confirmation and bank activity records to show that the earnest money is cashed<br>\n",
    "# 2.\tHome owner insurance binder<br><br>\n",
    "# Best regards,<br>\n",
    "# Owen\n",
    "# </p>\n",
    "# </body>\n",
    "# </html>\n",
    "# \"\"\"\n",
    "# mailItem.GetInspector\n",
    "\n",
    "\n",
    "# #Always display the email before sending to clients\n",
    "# mailItem.Display()\n",
    "\n",
    "# # mailItem.Save()\n",
    "# # mailItem.Send()"
   ]
  },
  {
   "cell_type": "code",
   "execution_count": null,
   "metadata": {},
   "outputs": [],
   "source": []
  }
 ],
 "metadata": {
  "kernelspec": {
   "display_name": "Python 3.9.12 ('base')",
   "language": "python",
   "name": "python3"
  },
  "language_info": {
   "codemirror_mode": {
    "name": "ipython",
    "version": 3
   },
   "file_extension": ".py",
   "mimetype": "text/x-python",
   "name": "python",
   "nbconvert_exporter": "python",
   "pygments_lexer": "ipython3",
   "version": "3.9.12"
  },
  "orig_nbformat": 4,
  "vscode": {
   "interpreter": {
    "hash": "3a452354c00a607bc8b0c8421156aed0ddd5c3dab6b4331e8b9ad03354190bd2"
   }
  }
 },
 "nbformat": 4,
 "nbformat_minor": 2
}
