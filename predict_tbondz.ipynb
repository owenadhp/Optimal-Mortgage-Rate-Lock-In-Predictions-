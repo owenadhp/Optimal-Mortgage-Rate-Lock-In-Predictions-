{
 "cells": [
  {
   "cell_type": "code",
   "execution_count": 43,
   "metadata": {},
   "outputs": [],
   "source": [
    "import datetime as dt\n",
    "import pandas as pd\n",
    "import pandas_datareader as web\n",
    "import datetime as dt\n",
    "import numpy as np\n",
    "import matplotlib.pyplot as plt\n",
    "\n",
    "from sklearn.preprocessing import MinMaxScaler\n",
    "from tensorflow.keras.models import Sequential\n",
    "from tensorflow.keras.layers import Dense, Dropout, LSTM\n"
   ]
  },
  {
   "cell_type": "code",
   "execution_count": 13,
   "metadata": {},
   "outputs": [
    {
     "data": {
      "text/plain": [
       "datetime.datetime(2012, 1, 1, 0, 0)"
      ]
     },
     "execution_count": 13,
     "metadata": {},
     "output_type": "execute_result"
    }
   ],
   "source": [
    "start"
   ]
  },
  {
   "cell_type": "code",
   "execution_count": 28,
   "metadata": {},
   "outputs": [],
   "source": [
    "company = '^TNX'\n",
    "start = dt.datetime(2012,1,1)\n",
    "end = dt.datetime(2020,1,1)\n",
    "\n",
    "data = web.DataReader(company, 'yahoo', start=start, end=end)\n"
   ]
  },
  {
   "cell_type": "code",
   "execution_count": 29,
   "metadata": {},
   "outputs": [
    {
     "data": {
      "text/html": [
       "<div>\n",
       "<style scoped>\n",
       "    .dataframe tbody tr th:only-of-type {\n",
       "        vertical-align: middle;\n",
       "    }\n",
       "\n",
       "    .dataframe tbody tr th {\n",
       "        vertical-align: top;\n",
       "    }\n",
       "\n",
       "    .dataframe thead th {\n",
       "        text-align: right;\n",
       "    }\n",
       "</style>\n",
       "<table border=\"1\" class=\"dataframe\">\n",
       "  <thead>\n",
       "    <tr style=\"text-align: right;\">\n",
       "      <th></th>\n",
       "      <th>High</th>\n",
       "      <th>Low</th>\n",
       "      <th>Open</th>\n",
       "      <th>Close</th>\n",
       "      <th>Volume</th>\n",
       "      <th>Adj Close</th>\n",
       "    </tr>\n",
       "    <tr>\n",
       "      <th>Date</th>\n",
       "      <th></th>\n",
       "      <th></th>\n",
       "      <th></th>\n",
       "      <th></th>\n",
       "      <th></th>\n",
       "      <th></th>\n",
       "    </tr>\n",
       "  </thead>\n",
       "  <tbody>\n",
       "    <tr>\n",
       "      <th>2012-01-03</th>\n",
       "      <td>1.965</td>\n",
       "      <td>1.914</td>\n",
       "      <td>1.951</td>\n",
       "      <td>1.960</td>\n",
       "      <td>0.0</td>\n",
       "      <td>1.960</td>\n",
       "    </tr>\n",
       "    <tr>\n",
       "      <th>2012-01-04</th>\n",
       "      <td>2.012</td>\n",
       "      <td>1.933</td>\n",
       "      <td>1.937</td>\n",
       "      <td>1.995</td>\n",
       "      <td>0.0</td>\n",
       "      <td>1.995</td>\n",
       "    </tr>\n",
       "    <tr>\n",
       "      <th>2012-01-05</th>\n",
       "      <td>2.021</td>\n",
       "      <td>1.944</td>\n",
       "      <td>1.991</td>\n",
       "      <td>1.993</td>\n",
       "      <td>0.0</td>\n",
       "      <td>1.993</td>\n",
       "    </tr>\n",
       "    <tr>\n",
       "      <th>2012-01-06</th>\n",
       "      <td>2.044</td>\n",
       "      <td>1.946</td>\n",
       "      <td>2.003</td>\n",
       "      <td>1.961</td>\n",
       "      <td>0.0</td>\n",
       "      <td>1.961</td>\n",
       "    </tr>\n",
       "    <tr>\n",
       "      <th>2012-01-09</th>\n",
       "      <td>1.986</td>\n",
       "      <td>1.919</td>\n",
       "      <td>1.975</td>\n",
       "      <td>1.960</td>\n",
       "      <td>0.0</td>\n",
       "      <td>1.960</td>\n",
       "    </tr>\n",
       "    <tr>\n",
       "      <th>...</th>\n",
       "      <td>...</td>\n",
       "      <td>...</td>\n",
       "      <td>...</td>\n",
       "      <td>...</td>\n",
       "      <td>...</td>\n",
       "      <td>...</td>\n",
       "    </tr>\n",
       "    <tr>\n",
       "      <th>2019-12-26</th>\n",
       "      <td>1.921</td>\n",
       "      <td>1.896</td>\n",
       "      <td>1.912</td>\n",
       "      <td>1.905</td>\n",
       "      <td>0.0</td>\n",
       "      <td>1.905</td>\n",
       "    </tr>\n",
       "    <tr>\n",
       "      <th>2019-12-27</th>\n",
       "      <td>1.893</td>\n",
       "      <td>1.870</td>\n",
       "      <td>1.893</td>\n",
       "      <td>1.874</td>\n",
       "      <td>0.0</td>\n",
       "      <td>1.874</td>\n",
       "    </tr>\n",
       "    <tr>\n",
       "      <th>2019-12-30</th>\n",
       "      <td>1.940</td>\n",
       "      <td>1.895</td>\n",
       "      <td>1.923</td>\n",
       "      <td>1.895</td>\n",
       "      <td>0.0</td>\n",
       "      <td>1.895</td>\n",
       "    </tr>\n",
       "    <tr>\n",
       "      <th>2019-12-31</th>\n",
       "      <td>1.930</td>\n",
       "      <td>1.895</td>\n",
       "      <td>1.898</td>\n",
       "      <td>1.919</td>\n",
       "      <td>0.0</td>\n",
       "      <td>1.919</td>\n",
       "    </tr>\n",
       "    <tr>\n",
       "      <th>2020-01-02</th>\n",
       "      <td>1.903</td>\n",
       "      <td>1.851</td>\n",
       "      <td>1.903</td>\n",
       "      <td>1.882</td>\n",
       "      <td>0.0</td>\n",
       "      <td>1.882</td>\n",
       "    </tr>\n",
       "  </tbody>\n",
       "</table>\n",
       "<p>2011 rows × 6 columns</p>\n",
       "</div>"
      ],
      "text/plain": [
       "             High    Low   Open  Close  Volume  Adj Close\n",
       "Date                                                     \n",
       "2012-01-03  1.965  1.914  1.951  1.960     0.0      1.960\n",
       "2012-01-04  2.012  1.933  1.937  1.995     0.0      1.995\n",
       "2012-01-05  2.021  1.944  1.991  1.993     0.0      1.993\n",
       "2012-01-06  2.044  1.946  2.003  1.961     0.0      1.961\n",
       "2012-01-09  1.986  1.919  1.975  1.960     0.0      1.960\n",
       "...           ...    ...    ...    ...     ...        ...\n",
       "2019-12-26  1.921  1.896  1.912  1.905     0.0      1.905\n",
       "2019-12-27  1.893  1.870  1.893  1.874     0.0      1.874\n",
       "2019-12-30  1.940  1.895  1.923  1.895     0.0      1.895\n",
       "2019-12-31  1.930  1.895  1.898  1.919     0.0      1.919\n",
       "2020-01-02  1.903  1.851  1.903  1.882     0.0      1.882\n",
       "\n",
       "[2011 rows x 6 columns]"
      ]
     },
     "execution_count": 29,
     "metadata": {},
     "output_type": "execute_result"
    }
   ],
   "source": [
    "data"
   ]
  },
  {
   "cell_type": "code",
   "execution_count": 30,
   "metadata": {},
   "outputs": [],
   "source": [
    "#Prepare Data\n",
    "\n",
    "scaler = MinMaxScaler(feature_range=(0,1))\n",
    "scaled_data = scaler.fit_transform(data['Close'].values.reshape(-1,1))\n",
    "\n",
    "prediction_days = 60\n",
    "\n",
    "x_train = []\n",
    "y_train = []\n",
    "\n",
    "for x in range(prediction_days, len(scaled_data)):\n",
    "    x_train.append(scaled_data[x-prediction_days:x, 0 ])\n",
    "    y_train.append(scaled_data[x,0])\n",
    "\n",
    "\n",
    "x_train, y_train = np.array(x_train), np.array(y_train)\n",
    "\n",
    "x_train = np.reshape(x_train, (x_train.shape[0], x_train.shape[1], 1))"
   ]
  },
  {
   "cell_type": "code",
   "execution_count": null,
   "metadata": {},
   "outputs": [],
   "source": [
    "x_train"
   ]
  },
  {
   "cell_type": "code",
   "execution_count": 31,
   "metadata": {},
   "outputs": [
    {
     "name": "stdout",
     "output_type": "stream",
     "text": [
      "Epoch 1/25\n",
      "61/61 [==============================] - 13s 45ms/step - loss: 0.0292\n",
      "Epoch 2/25\n",
      "61/61 [==============================] - 3s 46ms/step - loss: 0.0067\n",
      "Epoch 3/25\n",
      "61/61 [==============================] - 3s 42ms/step - loss: 0.0066\n",
      "Epoch 4/25\n",
      "61/61 [==============================] - 3s 43ms/step - loss: 0.0055\n",
      "Epoch 5/25\n",
      "61/61 [==============================] - 3s 43ms/step - loss: 0.0064\n",
      "Epoch 6/25\n",
      "61/61 [==============================] - 3s 42ms/step - loss: 0.0053\n",
      "Epoch 7/25\n",
      "61/61 [==============================] - 3s 41ms/step - loss: 0.0050\n",
      "Epoch 8/25\n",
      "61/61 [==============================] - 3s 44ms/step - loss: 0.0048\n",
      "Epoch 9/25\n",
      "61/61 [==============================] - 3s 42ms/step - loss: 0.0045\n",
      "Epoch 10/25\n",
      "61/61 [==============================] - 3s 42ms/step - loss: 0.0044\n",
      "Epoch 11/25\n",
      "61/61 [==============================] - 3s 41ms/step - loss: 0.0044\n",
      "Epoch 12/25\n",
      "61/61 [==============================] - 3s 41ms/step - loss: 0.0043\n",
      "Epoch 13/25\n",
      "61/61 [==============================] - 3s 41ms/step - loss: 0.0041\n",
      "Epoch 14/25\n",
      "61/61 [==============================] - 3s 42ms/step - loss: 0.0039\n",
      "Epoch 15/25\n",
      "61/61 [==============================] - 3s 43ms/step - loss: 0.0035\n",
      "Epoch 16/25\n",
      "61/61 [==============================] - 3s 42ms/step - loss: 0.0035\n",
      "Epoch 17/25\n",
      "61/61 [==============================] - 2s 41ms/step - loss: 0.0035\n",
      "Epoch 18/25\n",
      "61/61 [==============================] - 3s 41ms/step - loss: 0.0034\n",
      "Epoch 19/25\n",
      "61/61 [==============================] - 2s 41ms/step - loss: 0.0034\n",
      "Epoch 20/25\n",
      "61/61 [==============================] - 3s 42ms/step - loss: 0.0033\n",
      "Epoch 21/25\n",
      "61/61 [==============================] - 3s 45ms/step - loss: 0.0032\n",
      "Epoch 22/25\n",
      "61/61 [==============================] - 3s 42ms/step - loss: 0.0031\n",
      "Epoch 23/25\n",
      "61/61 [==============================] - 3s 41ms/step - loss: 0.0030\n",
      "Epoch 24/25\n",
      "61/61 [==============================] - 3s 42ms/step - loss: 0.0028\n",
      "Epoch 25/25\n",
      "61/61 [==============================] - 3s 41ms/step - loss: 0.0029\n"
     ]
    },
    {
     "ename": "ValueError",
     "evalue": "Expected 2D array, got 1D array instead:\narray=[1.53699994 1.58899999 1.65799999 1.75199997 1.73300004 1.77100003\n 1.74800003 1.75699997 1.74699998 1.79200006 1.76800001 1.75899994\n 1.76600003 1.801      1.85300004 1.83500004 1.79799998 1.69099998\n 1.72800004 1.78600001 1.86600006 1.81400001 1.926      1.93299997\n 1.94299996 1.90900004 1.87       1.81500006 1.83399999 1.80799997\n 1.78600001 1.73800004 1.77199996 1.77400005 1.76400006 1.74000001\n 1.76699996 1.77600002 1.83599997 1.70899999 1.78100002 1.79700005\n 1.84200001 1.829      1.83299994 1.78999996 1.89699996 1.81900001\n 1.89199996 1.88900006 1.92400002 1.90799999 1.91700006 1.93499994\n 1.90999997 1.90499997 1.87399995 1.89499998 1.91900003 1.88199997\n 1.88199997 1.78799999 1.81099999 1.82700002 1.87399995 1.85800004\n 1.82500005 1.84800005 1.81799996 1.78799999 1.80900002 1.83599997\n 1.76900005 1.76900005 1.74000001 1.68099999 1.60500002 1.64100003\n 1.59399998 1.55799997 1.51999998 1.51999998 1.60300004 1.64900005\n 1.64400005 1.57799995 1.54700005 1.59000003 1.63       1.61699998\n 1.58800006 1.55599999 1.57000005 1.52499998 1.47099996 1.37699997\n 1.33000004 1.30999994 1.29900002 1.12699997 1.08800006 1.00999999\n 0.99199998 0.926      0.70599997 0.49900001 0.74800003 0.81999999\n 0.84899998 0.95099998 0.72799999 0.99699998 1.26600003 1.11899996\n 0.93800002 0.764      0.81599998 0.85799998 0.81099999 0.74900001\n 0.67000002 0.69800001 0.63499999 0.62699997 0.58700001 0.676\n 0.736      0.764      0.72899997 0.74900001 0.75199997 0.63800001\n 0.60900003 0.65399998 0.62599999 0.57099998 0.61900002 0.61299998\n 0.59600002 0.65600002 0.61000001 0.62699997 0.62199998 0.64200002\n 0.63700002 0.65700001 0.71100003 0.63099998 0.68199998 0.72600001\n 0.67799997 0.64899999 0.61900002 0.63999999 0.74400002 0.71100003\n 0.68000001 0.67699999 0.65700001 0.69800001 0.68000001 0.70499998\n 0.648      0.662      0.68000001 0.76099998 0.81999999 0.90399998\n 0.884      0.829      0.74800003 0.653      0.699      0.70200002\n 0.75599998 0.73299998 0.69400001 0.69700003 0.704      0.70899999\n 0.68400002 0.67400002 0.63599998 0.63599998 0.653      0.68199998\n 0.66900003 0.68400002 0.64999998 0.653      0.60500002 0.63300002\n 0.63999999 0.61500001 0.63       0.61199999 0.62800002 0.62\n 0.60699999 0.59500003 0.58200002 0.58899999 0.60900003 0.58099997\n 0.579      0.54100001 0.53600001 0.56300002 0.51499999 0.54299998\n 0.53600001 0.56199998 0.574      0.65799999 0.67000002 0.71600002\n 0.70899999 0.68300003 0.66900003 0.67500001 0.64399999 0.63999999\n 0.64600003 0.68199998 0.68699998 0.74599999 0.72899997 0.69300002\n 0.67199999 0.65100002 0.62199998 0.72100002 0.68400002 0.70300001\n 0.685      0.66900003 0.671      0.67900002 0.68699998 0.68400002\n 0.69400001 0.671      0.66399997 0.676      0.66600001 0.65899998\n 0.66299999 0.64499998 0.67699999 0.67699999 0.69599998 0.76200002\n 0.74199998 0.78500003 0.76499999 0.77499998 0.77700001 0.727\n 0.722      0.73100001 0.74400002 0.76099998 0.79699999 0.81599998\n 0.84799999 0.84100002 0.801      0.778      0.78100002 0.83499998\n 0.86000001 0.84899998 0.88200003 0.76800001 0.77600002 0.81999999\n 0.958      0.972      0.958      0.88499999 0.89300001 0.90600002\n 0.87199998 0.88200003 0.85399997 0.829      0.85699999 0.88200003\n 0.87800002 0.84200001 0.84399998 0.93400002 0.94800001 0.92000002\n 0.96899998 0.92799997 0.91299999 0.94099998 0.90799999 0.89300001\n 0.89200002 0.92299998 0.92000002 0.93000001 0.94800001 0.94099998\n 0.91799998 0.95499998 0.92799997 0.93300003 0.935      0.926\n 0.917     ].\nReshape your data either using array.reshape(-1, 1) if your data has a single feature or array.reshape(1, -1) if it contains a single sample.",
     "output_type": "error",
     "traceback": [
      "\u001b[1;31m---------------------------------------------------------------------------\u001b[0m",
      "\u001b[1;31mValueError\u001b[0m                                Traceback (most recent call last)",
      "\u001b[1;32mc:\\Users\\aldif\\OneDrive\\Documents\\GitHub\\Predictive-Analytics-\\asd.ipynb Cell 7\u001b[0m in \u001b[0;36m<cell line: 33>\u001b[1;34m()\u001b[0m\n\u001b[0;32m     <a href='vscode-notebook-cell:/c%3A/Users/aldif/OneDrive/Documents/GitHub/Predictive-Analytics-/asd.ipynb#W3sZmlsZQ%3D%3D?line=30'>31</a>\u001b[0m model_inputs \u001b[39m=\u001b[39m total_dataset[\u001b[39mlen\u001b[39m(total_dataset) \u001b[39m-\u001b[39m \u001b[39mlen\u001b[39m(test_data) \u001b[39m-\u001b[39m prediction_days:]\u001b[39m.\u001b[39mvalues\n\u001b[0;32m     <a href='vscode-notebook-cell:/c%3A/Users/aldif/OneDrive/Documents/GitHub/Predictive-Analytics-/asd.ipynb#W3sZmlsZQ%3D%3D?line=31'>32</a>\u001b[0m model_inputs \u001b[39m-\u001b[39m model_inputs\u001b[39m.\u001b[39mreshape(\u001b[39m-\u001b[39m\u001b[39m1\u001b[39m, \u001b[39m1\u001b[39m)\n\u001b[1;32m---> <a href='vscode-notebook-cell:/c%3A/Users/aldif/OneDrive/Documents/GitHub/Predictive-Analytics-/asd.ipynb#W3sZmlsZQ%3D%3D?line=32'>33</a>\u001b[0m model_inputs \u001b[39m=\u001b[39m scaler\u001b[39m.\u001b[39;49mtransform(model_inputs)\n\u001b[0;32m     <a href='vscode-notebook-cell:/c%3A/Users/aldif/OneDrive/Documents/GitHub/Predictive-Analytics-/asd.ipynb#W3sZmlsZQ%3D%3D?line=34'>35</a>\u001b[0m \u001b[39m#Make predictions on test data\u001b[39;00m\n\u001b[0;32m     <a href='vscode-notebook-cell:/c%3A/Users/aldif/OneDrive/Documents/GitHub/Predictive-Analytics-/asd.ipynb#W3sZmlsZQ%3D%3D?line=36'>37</a>\u001b[0m x_test \u001b[39m=\u001b[39m []\n",
      "File \u001b[1;32mc:\\Users\\aldif\\anaconda3\\lib\\site-packages\\sklearn\\preprocessing\\_data.py:496\u001b[0m, in \u001b[0;36mMinMaxScaler.transform\u001b[1;34m(self, X)\u001b[0m\n\u001b[0;32m    482\u001b[0m \u001b[39m\"\"\"Scale features of X according to feature_range.\u001b[39;00m\n\u001b[0;32m    483\u001b[0m \n\u001b[0;32m    484\u001b[0m \u001b[39mParameters\u001b[39;00m\n\u001b[1;32m   (...)\u001b[0m\n\u001b[0;32m    492\u001b[0m \u001b[39m    Transformed data.\u001b[39;00m\n\u001b[0;32m    493\u001b[0m \u001b[39m\"\"\"\u001b[39;00m\n\u001b[0;32m    494\u001b[0m check_is_fitted(\u001b[39mself\u001b[39m)\n\u001b[1;32m--> 496\u001b[0m X \u001b[39m=\u001b[39m \u001b[39mself\u001b[39;49m\u001b[39m.\u001b[39;49m_validate_data(\n\u001b[0;32m    497\u001b[0m     X,\n\u001b[0;32m    498\u001b[0m     copy\u001b[39m=\u001b[39;49m\u001b[39mself\u001b[39;49m\u001b[39m.\u001b[39;49mcopy,\n\u001b[0;32m    499\u001b[0m     dtype\u001b[39m=\u001b[39;49mFLOAT_DTYPES,\n\u001b[0;32m    500\u001b[0m     force_all_finite\u001b[39m=\u001b[39;49m\u001b[39m\"\u001b[39;49m\u001b[39mallow-nan\u001b[39;49m\u001b[39m\"\u001b[39;49m,\n\u001b[0;32m    501\u001b[0m     reset\u001b[39m=\u001b[39;49m\u001b[39mFalse\u001b[39;49;00m,\n\u001b[0;32m    502\u001b[0m )\n\u001b[0;32m    504\u001b[0m X \u001b[39m*\u001b[39m\u001b[39m=\u001b[39m \u001b[39mself\u001b[39m\u001b[39m.\u001b[39mscale_\n\u001b[0;32m    505\u001b[0m X \u001b[39m+\u001b[39m\u001b[39m=\u001b[39m \u001b[39mself\u001b[39m\u001b[39m.\u001b[39mmin_\n",
      "File \u001b[1;32mc:\\Users\\aldif\\anaconda3\\lib\\site-packages\\sklearn\\base.py:566\u001b[0m, in \u001b[0;36mBaseEstimator._validate_data\u001b[1;34m(self, X, y, reset, validate_separately, **check_params)\u001b[0m\n\u001b[0;32m    564\u001b[0m     \u001b[39mraise\u001b[39;00m \u001b[39mValueError\u001b[39;00m(\u001b[39m\"\u001b[39m\u001b[39mValidation should be done on X, y or both.\u001b[39m\u001b[39m\"\u001b[39m)\n\u001b[0;32m    565\u001b[0m \u001b[39melif\u001b[39;00m \u001b[39mnot\u001b[39;00m no_val_X \u001b[39mand\u001b[39;00m no_val_y:\n\u001b[1;32m--> 566\u001b[0m     X \u001b[39m=\u001b[39m check_array(X, \u001b[39m*\u001b[39m\u001b[39m*\u001b[39mcheck_params)\n\u001b[0;32m    567\u001b[0m     out \u001b[39m=\u001b[39m X\n\u001b[0;32m    568\u001b[0m \u001b[39melif\u001b[39;00m no_val_X \u001b[39mand\u001b[39;00m \u001b[39mnot\u001b[39;00m no_val_y:\n",
      "File \u001b[1;32mc:\\Users\\aldif\\anaconda3\\lib\\site-packages\\sklearn\\utils\\validation.py:769\u001b[0m, in \u001b[0;36mcheck_array\u001b[1;34m(array, accept_sparse, accept_large_sparse, dtype, order, copy, force_all_finite, ensure_2d, allow_nd, ensure_min_samples, ensure_min_features, estimator)\u001b[0m\n\u001b[0;32m    767\u001b[0m     \u001b[39m# If input is 1D raise error\u001b[39;00m\n\u001b[0;32m    768\u001b[0m     \u001b[39mif\u001b[39;00m array\u001b[39m.\u001b[39mndim \u001b[39m==\u001b[39m \u001b[39m1\u001b[39m:\n\u001b[1;32m--> 769\u001b[0m         \u001b[39mraise\u001b[39;00m \u001b[39mValueError\u001b[39;00m(\n\u001b[0;32m    770\u001b[0m             \u001b[39m\"\u001b[39m\u001b[39mExpected 2D array, got 1D array instead:\u001b[39m\u001b[39m\\n\u001b[39;00m\u001b[39marray=\u001b[39m\u001b[39m{}\u001b[39;00m\u001b[39m.\u001b[39m\u001b[39m\\n\u001b[39;00m\u001b[39m\"\u001b[39m\n\u001b[0;32m    771\u001b[0m             \u001b[39m\"\u001b[39m\u001b[39mReshape your data either using array.reshape(-1, 1) if \u001b[39m\u001b[39m\"\u001b[39m\n\u001b[0;32m    772\u001b[0m             \u001b[39m\"\u001b[39m\u001b[39myour data has a single feature or array.reshape(1, -1) \u001b[39m\u001b[39m\"\u001b[39m\n\u001b[0;32m    773\u001b[0m             \u001b[39m\"\u001b[39m\u001b[39mif it contains a single sample.\u001b[39m\u001b[39m\"\u001b[39m\u001b[39m.\u001b[39mformat(array)\n\u001b[0;32m    774\u001b[0m         )\n\u001b[0;32m    776\u001b[0m \u001b[39m# make sure we actually converted to numeric:\u001b[39;00m\n\u001b[0;32m    777\u001b[0m \u001b[39mif\u001b[39;00m dtype_numeric \u001b[39mand\u001b[39;00m array\u001b[39m.\u001b[39mdtype\u001b[39m.\u001b[39mkind \u001b[39min\u001b[39;00m \u001b[39m\"\u001b[39m\u001b[39mOUSV\u001b[39m\u001b[39m\"\u001b[39m:\n",
      "\u001b[1;31mValueError\u001b[0m: Expected 2D array, got 1D array instead:\narray=[1.53699994 1.58899999 1.65799999 1.75199997 1.73300004 1.77100003\n 1.74800003 1.75699997 1.74699998 1.79200006 1.76800001 1.75899994\n 1.76600003 1.801      1.85300004 1.83500004 1.79799998 1.69099998\n 1.72800004 1.78600001 1.86600006 1.81400001 1.926      1.93299997\n 1.94299996 1.90900004 1.87       1.81500006 1.83399999 1.80799997\n 1.78600001 1.73800004 1.77199996 1.77400005 1.76400006 1.74000001\n 1.76699996 1.77600002 1.83599997 1.70899999 1.78100002 1.79700005\n 1.84200001 1.829      1.83299994 1.78999996 1.89699996 1.81900001\n 1.89199996 1.88900006 1.92400002 1.90799999 1.91700006 1.93499994\n 1.90999997 1.90499997 1.87399995 1.89499998 1.91900003 1.88199997\n 1.88199997 1.78799999 1.81099999 1.82700002 1.87399995 1.85800004\n 1.82500005 1.84800005 1.81799996 1.78799999 1.80900002 1.83599997\n 1.76900005 1.76900005 1.74000001 1.68099999 1.60500002 1.64100003\n 1.59399998 1.55799997 1.51999998 1.51999998 1.60300004 1.64900005\n 1.64400005 1.57799995 1.54700005 1.59000003 1.63       1.61699998\n 1.58800006 1.55599999 1.57000005 1.52499998 1.47099996 1.37699997\n 1.33000004 1.30999994 1.29900002 1.12699997 1.08800006 1.00999999\n 0.99199998 0.926      0.70599997 0.49900001 0.74800003 0.81999999\n 0.84899998 0.95099998 0.72799999 0.99699998 1.26600003 1.11899996\n 0.93800002 0.764      0.81599998 0.85799998 0.81099999 0.74900001\n 0.67000002 0.69800001 0.63499999 0.62699997 0.58700001 0.676\n 0.736      0.764      0.72899997 0.74900001 0.75199997 0.63800001\n 0.60900003 0.65399998 0.62599999 0.57099998 0.61900002 0.61299998\n 0.59600002 0.65600002 0.61000001 0.62699997 0.62199998 0.64200002\n 0.63700002 0.65700001 0.71100003 0.63099998 0.68199998 0.72600001\n 0.67799997 0.64899999 0.61900002 0.63999999 0.74400002 0.71100003\n 0.68000001 0.67699999 0.65700001 0.69800001 0.68000001 0.70499998\n 0.648      0.662      0.68000001 0.76099998 0.81999999 0.90399998\n 0.884      0.829      0.74800003 0.653      0.699      0.70200002\n 0.75599998 0.73299998 0.69400001 0.69700003 0.704      0.70899999\n 0.68400002 0.67400002 0.63599998 0.63599998 0.653      0.68199998\n 0.66900003 0.68400002 0.64999998 0.653      0.60500002 0.63300002\n 0.63999999 0.61500001 0.63       0.61199999 0.62800002 0.62\n 0.60699999 0.59500003 0.58200002 0.58899999 0.60900003 0.58099997\n 0.579      0.54100001 0.53600001 0.56300002 0.51499999 0.54299998\n 0.53600001 0.56199998 0.574      0.65799999 0.67000002 0.71600002\n 0.70899999 0.68300003 0.66900003 0.67500001 0.64399999 0.63999999\n 0.64600003 0.68199998 0.68699998 0.74599999 0.72899997 0.69300002\n 0.67199999 0.65100002 0.62199998 0.72100002 0.68400002 0.70300001\n 0.685      0.66900003 0.671      0.67900002 0.68699998 0.68400002\n 0.69400001 0.671      0.66399997 0.676      0.66600001 0.65899998\n 0.66299999 0.64499998 0.67699999 0.67699999 0.69599998 0.76200002\n 0.74199998 0.78500003 0.76499999 0.77499998 0.77700001 0.727\n 0.722      0.73100001 0.74400002 0.76099998 0.79699999 0.81599998\n 0.84799999 0.84100002 0.801      0.778      0.78100002 0.83499998\n 0.86000001 0.84899998 0.88200003 0.76800001 0.77600002 0.81999999\n 0.958      0.972      0.958      0.88499999 0.89300001 0.90600002\n 0.87199998 0.88200003 0.85399997 0.829      0.85699999 0.88200003\n 0.87800002 0.84200001 0.84399998 0.93400002 0.94800001 0.92000002\n 0.96899998 0.92799997 0.91299999 0.94099998 0.90799999 0.89300001\n 0.89200002 0.92299998 0.92000002 0.93000001 0.94800001 0.94099998\n 0.91799998 0.95499998 0.92799997 0.93300003 0.935      0.926\n 0.917     ].\nReshape your data either using array.reshape(-1, 1) if your data has a single feature or array.reshape(1, -1) if it contains a single sample."
     ]
    }
   ],
   "source": [
    "# Build the Model\n",
    "\n",
    "model = Sequential ()\n",
    "\n",
    "model.add(LSTM(units=50, return_sequences=True, input_shape=(x_train.shape[1], 1)))\n",
    "model.add(Dropout(0.2))\n",
    "model.add(LSTM(units=50, return_sequences=True))\n",
    "model.add(Dropout(0.2))\n",
    "model.add(LSTM(units=50))\n",
    "model.add(Dropout(0.2))\n",
    "model.add(Dense(units=1))\n",
    "\n",
    "\n",
    "model.compile(optimizer='adam', loss='mean_squared_error')\n",
    "model.fit(x_train, y_train, epochs=25, batch_size=32)\n",
    "\n",
    "\n"
   ]
  },
  {
   "cell_type": "code",
   "execution_count": 38,
   "metadata": {},
   "outputs": [],
   "source": [
    "\n",
    "#TESTING THE MODEL\n",
    "test_start = dt.datetime(2020,1,1)\n",
    "test_end = dt.datetime(2021,1,1)\n",
    "\n",
    "test_data = web.DataReader(company, 'yahoo', test_start,  test_end)\n",
    "actual_prices = test_data['Close'].values\n",
    "\n",
    "total_dataset = pd.concat((data['Close'], test_data['Close']), axis=0)\n",
    "\n",
    "\n",
    "model_inputs = total_dataset[len(total_dataset) - len(test_data) - prediction_days:].values\n",
    "model_inputs = model_inputs.reshape(-1, 1)\n",
    "model_inputs = scaler.transform(model_inputs)\n"
   ]
  },
  {
   "cell_type": "code",
   "execution_count": 40,
   "metadata": {},
   "outputs": [
    {
     "name": "stdout",
     "output_type": "stream",
     "text": [
      "8/8 [==============================] - 2s 14ms/step\n"
     ]
    }
   ],
   "source": [
    "\n",
    "#Make predictions on test data\n",
    "\n",
    "x_test = []\n",
    "\n",
    "for x in range(prediction_days, len(model_inputs)):\n",
    "    x_test.append(model_inputs[x-prediction_days:x, 0 ])\n",
    "\n",
    "\n",
    "x_test = np.array(x_test)\n",
    "x_test = np.reshape(x_test, (x_test.shape[0], x_test.shape[1], 1))\n",
    "\n",
    "predicted_prices = model.predict(x_test)\n",
    "predicted_prices = scaler.inverse_transform(predicted_prices)\n",
    "\n",
    "\n"
   ]
  },
  {
   "cell_type": "code",
   "execution_count": 44,
   "metadata": {},
   "outputs": [
    {
     "name": "stderr",
     "output_type": "stream",
     "text": [
      "No artists with labels found to put in legend.  Note that artists whose label start with an underscore are ignored when legend() is called with no argument.\n"
     ]
    },
    {
     "data": {
      "image/png": "[encoded data removed]",
      "text/plain": [
       "<Figure size 432x288 with 1 Axes>"
      ]
     },
     "metadata": {
      "needs_background": "light"
     },
     "output_type": "display_data"
    }
   ],
   "source": [
    "\n",
    "\n",
    "#PLOT\n",
    "\n",
    "plt.plot(actual_prices, color='black')\n",
    "plt.plot(predicted_prices, color='green')\n",
    "\n",
    "plt.legend()\n",
    "plt.show()\n",
    "    "
   ]
  }
 ],
 "metadata": {
  "kernelspec": {
   "display_name": "Python 3.9.12 ('base')",
   "language": "python",
   "name": "python3"
  },
  "language_info": {
   "codemirror_mode": {
    "name": "ipython",
    "version": 3
   },
   "file_extension": ".py",
   "mimetype": "text/x-python",
   "name": "python",
   "nbconvert_exporter": "python",
   "pygments_lexer": "ipython3",
   "version": "3.9.12"
  },
  "orig_nbformat": 4,
  "vscode": {
   "interpreter": {
    "hash": "f5d1ea05c7fac563990305ffa78b250bab66d73bd41053af402868540aaf78e5"
   }
  }
 },
 "nbformat": 4,
 "nbformat_minor": 2
}
